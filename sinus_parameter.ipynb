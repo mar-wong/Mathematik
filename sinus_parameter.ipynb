{
 "cells": [
  {
   "cell_type": "markdown",
   "id": "bb5afb99-8ccc-4b2d-9af2-6919553a74ee",
   "metadata": {},
   "source": [
    "<font color='red'>**Darstellung des Graphen einer Sinusfunktion mit Parametern** </font>\n"
   ]
  },
  {
   "cell_type": "code",
   "execution_count": 8,
   "id": "a576bbb2-6dda-4761-87e8-140d6b102ad1",
   "metadata": {},
   "outputs": [],
   "source": [
    "%%capture \n",
    "%pip install matplotlib scikit-learn"
   ]
  },
  {
   "cell_type": "code",
   "execution_count": 9,
   "id": "f96e058b-38c7-4ace-8ca1-3d298ba9bbb0",
   "metadata": {},
   "outputs": [],
   "source": [
    "import matplotlib.pyplot as plt\n",
    "import numpy as np\n",
    "from ipywidgets import interact, FloatSlider, IntSlider, FloatText"
   ]
  },
  {
   "cell_type": "code",
   "execution_count": 10,
   "id": "9381199b-de9f-4754-8277-87bc78cc1ce0",
   "metadata": {},
   "outputs": [
    {
     "data": {
      "application/vnd.jupyter.widget-view+json": {
       "model_id": "86130dd5045d459982a3bb9e58b14dd1",
       "version_major": 2,
       "version_minor": 0
      },
      "text/plain": [
       "interactive(children=(FloatSlider(value=0.4, description='a_Streckung_zur_y-Achse:', max=3.0, min=0.4, step=0.…"
      ]
     },
     "metadata": {},
     "output_type": "display_data"
    }
   ],
   "source": [
    "font = {'family': 'serif',\n",
    "        'color':  'darkred',\n",
    "        'weight': 'normal',\n",
    "        'size': 12,\n",
    "        }\n",
    "def func(x, a, b, c, d):\n",
    "    #numerator1 = np.sin((a / λ) * np.pi * np.sin(x))\n",
    "    #denominator1 = np.pi * (a / λ) * np.sin(x)\n",
    "    term = a*np.sin(b*(x-c))+d\n",
    "    return term\n",
    "\n",
    "\n",
    "def plot_func(a, b, c, d, point_x):\n",
    "    f = lambda x: func(x, a, b, c, d)\n",
    "    x = np.linspace(-9, 9, 1000)\n",
    "    y = np.array(list(map(f, x)))\n",
    "    point_y = f(point_x)\n",
    "\n",
    "    plt.plot(x, y, x, np.sin(x))\n",
    "\n",
    "    # Add point to graph\n",
    "    plt.scatter([point_x], [point_y], color='red')\n",
    "    print(f\"(x|{point_y})\")\n",
    "\n",
    "    plt.grid(True)\n",
    "    plt.title('Sinusfunktion mit Parametern', fontdict=font)\n",
    "    #plt.text(0.55, 0.95, r'$\\cos(2 \\pi t) \\exp(-t)$', fontdict=font)\n",
    "    plt.xlabel('x(rad)', fontdict=font)\n",
    "    plt.ylabel('y', fontdict=font)\n",
    "    plt.show()\n",
    "\n",
    "\n",
    "a_slider = FloatSlider(value=0.4, min=0.4, max=3, step=0.01, description='a_Streckung_zur_y-Achse:')\n",
    "b_slider = FloatSlider(value=0.4, min=0.4, max=0.8, step=0.1, description='1/b Streckung zur x-Achse:')\n",
    "c_slider = FloatSlider(value=0.4, min=0.4, max=0.8, step=0.1, description='waagerechte Verschiebung:')\n",
    "d_slider = FloatSlider(value=0.4, min=0.4, max=0.8, step=0.1, description='senkrechte Verschiebung:')\n",
    "x_value = FloatText(value=0.1, description='x:', disabled=False)\n",
    "\n",
    "interact(plot_func, a=a_slider, b=b_slider, c=c_slider, d=d_slider, point_x=x_value)\n",
    "pass"
   ]
  }
 ],
 "metadata": {
  "kernelspec": {
   "display_name": "Python 3 (ipykernel)",
   "language": "python",
   "name": "python3"
  },
  "language_info": {
   "codemirror_mode": {
    "name": "ipython",
    "version": 3
   },
   "file_extension": ".py",
   "mimetype": "text/x-python",
   "name": "python",
   "nbconvert_exporter": "python",
   "pygments_lexer": "ipython3",
   "version": "3.11.9"
  }
 },
 "nbformat": 4,
 "nbformat_minor": 5
}
